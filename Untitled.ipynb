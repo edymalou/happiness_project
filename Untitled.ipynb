{
 "cells": [
  {
   "cell_type": "code",
   "execution_count": 1,
   "metadata": {},
   "outputs": [],
   "source": [
    "import sys"
   ]
  },
  {
   "cell_type": "code",
   "execution_count": 3,
   "metadata": {},
   "outputs": [
    {
     "data": {
      "text/plain": [
       "['/Users/malikatapparel/Documents/AlUni/Master/cours/DS/full_example/happiness_project',\n",
       " '/Users/malikatapparel/opt/anaconda3/lib/python38.zip',\n",
       " '/Users/malikatapparel/opt/anaconda3/lib/python3.8',\n",
       " '/Users/malikatapparel/opt/anaconda3/lib/python3.8/lib-dynload',\n",
       " '',\n",
       " '/Users/malikatapparel/opt/anaconda3/lib/python3.8/site-packages',\n",
       " '/Users/malikatapparel/opt/anaconda3/lib/python3.8/site-packages/aeosa',\n",
       " '/Users/malikatapparel/opt/anaconda3/lib/python3.8/site-packages/IPython/extensions',\n",
       " '/Users/malikatapparel/.ipython']"
      ]
     },
     "execution_count": 3,
     "metadata": {},
     "output_type": "execute_result"
    }
   ],
   "source": [
    "sys.path"
   ]
  },
  {
   "cell_type": "code",
   "execution_count": 4,
   "metadata": {},
   "outputs": [
    {
     "ename": "ImportError",
     "evalue": "cannot import name 'whdata_to_csv' from 'happypred' (unknown location)",
     "output_type": "error",
     "traceback": [
      "\u001b[0;31m---------------------------------------------------------------------------\u001b[0m",
      "\u001b[0;31mImportError\u001b[0m                               Traceback (most recent call last)",
      "\u001b[0;32m<ipython-input-4-c6c4aab0b3fb>\u001b[0m in \u001b[0;36m<module>\u001b[0;34m\u001b[0m\n\u001b[0;32m----> 1\u001b[0;31m \u001b[0;32mfrom\u001b[0m \u001b[0mhappypred\u001b[0m \u001b[0;32mimport\u001b[0m \u001b[0mwhdata_to_csv\u001b[0m\u001b[0;34m\u001b[0m\u001b[0;34m\u001b[0m\u001b[0m\n\u001b[0m",
      "\u001b[0;31mImportError\u001b[0m: cannot import name 'whdata_to_csv' from 'happypred' (unknown location)"
     ]
    }
   ],
   "source": [
    "from happypred import whdata_to_csv"
   ]
  },
  {
   "cell_type": "code",
   "execution_count": null,
   "metadata": {},
   "outputs": [],
   "source": []
  }
 ],
 "metadata": {
  "kernelspec": {
   "display_name": "Python 3",
   "language": "python",
   "name": "python3"
  },
  "language_info": {
   "codemirror_mode": {
    "name": "ipython",
    "version": 3
   },
   "file_extension": ".py",
   "mimetype": "text/x-python",
   "name": "python",
   "nbconvert_exporter": "python",
   "pygments_lexer": "ipython3",
   "version": "3.8.3"
  }
 },
 "nbformat": 4,
 "nbformat_minor": 4
}
